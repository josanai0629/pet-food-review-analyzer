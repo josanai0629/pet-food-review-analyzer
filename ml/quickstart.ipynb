{
 "cells": [
  {
   "cell_type": "markdown",
   "metadata": {},
   "source": [
    "# ペットフードレビュー分類器 - クイックスタート\n",
    "\n",
    "このノートブックでは、機械学習モジュールの基本的な使用方法を学びます。\n",
    "\n",
    "## 🎯 このノートブックで学ぶこと\n",
    "\n",
    "1. データの読み込みと前処理\n",
    "2. 探索的データ分析（EDA）\n",
    "3. BERTモデルの学習\n",
    "4. モデルの評価と予測\n",
    "\n",
    "## 📋 前提条件\n",
    "\n",
    "- `ラベル付け参考用.xlsx` ファイルが準備されていること\n",
    "- 必要なパッケージがインストールされていること (`pip install -r requirements.txt`)"
   ]
  },
  {
   "cell_type": "markdown",
   "metadata": {},
   "source": [
    "## 1. 環境設定とインポート"
   ]
  },
  {
   "cell_type": "code",
   "execution_count": null,
   "metadata": {},
   "outputs": [],
   "source": [
    "import os\n",
    "import sys\n",
    "import warnings\n",
    "warnings.filterwarnings('ignore')\n",
    "\n",
    "# 現在のディレクトリをパスに追加\n",
    "current_dir = os.getcwd()\n",
    "if current_dir not in sys.path:\n",
    "    sys.path.append(current_dir)\n",
    "\n",
    "# 必要なモジュールのインポート\n",
    "from data_preprocessing import DataPreprocessor\n",
    "from eda import EDAAnalyzer\n",
    "from bert_classifier import BERTClassifier\n",
    "from config import MODEL_CONFIG, DATA_CONFIG\n",
    "\n",
    "import pandas as pd\n",
    "import numpy as np\n",
    "import matplotlib.pyplot as plt\n",
    "import torch\n",
    "\n",
    "print(f\"PyTorch バージョン: {torch.__version__}\")\n",
    "print(f\"CUDA利用可能: {torch.cuda.is_available()}\")\n",
    "if torch.cuda.is_available():\n",
    "    print(f\"GPU: {torch.cuda.get_device_name()}\")\n",
    "\n",
    "print(\"\\n✅ 環境設定完了！\")"
   ]
  },
  {
   "cell_type": "markdown",
   "metadata": {},
   "source": [
    "## 2. データファイルの確認"
   ]
  },
  {
   "cell_type": "code",
   "execution_count": null,
   "metadata": {},
   "outputs": [],
   "source": [
    "# データファイルのパスを設定\n",
    "excel_file = \"../ラベル付け参考用.xlsx\"  # パスを適切に調整してください\n",
    "\n",
    "# ファイルの存在確認\n",
    "if os.path.exists(excel_file):\n",
    "    print(f\"✅ データファイル確認: {excel_file}\")\n",
    "    \n",
    "    # ファイル情報を表示\n",
    "    file_size = os.path.getsize(excel_file) / 1024 / 1024  # MB\n",
    "    print(f\"   ファイルサイズ: {file_size:.2f} MB\")\n",
    "else:\n",
    "    print(f\"❌ ファイルが見つかりません: {excel_file}\")\n",
    "    print(\"   パスを確認してください\")\n",
    "    excel_file = None"
   ]
  },
  {
   "cell_type": "markdown",
   "metadata": {},
   "source": [
    "## 3. データ前処理"
   ]
  },
  {
   "cell_type": "code",
   "execution_count": null,
   "metadata": {},
   "outputs": [],
   "source": [
    "if excel_file and os.path.exists(excel_file):\n",
    "    print(\"📊 データ前処理を開始...\")\n",
    "    \n",
    "    # データ前処理器の初期化\n",
    "    preprocessor = DataPreprocessor()\n",
    "    \n",
    "    # データの読み込みと前処理\n",
    "    processed_data = preprocessor.process_data(excel_file)\n",
    "    \n",
    "    # 結果の表示\n",
    "    print(f\"\\n📈 前処理結果:\")\n",
    "    print(f\"   総データ数: {len(processed_data['texts'])}\")\n",
    "    print(f\"   ラベル数: {len(processed_data['label_encoder'].classes_)}\")\n",
    "    print(f\"   平均文字数: {np.mean([len(text) for text in processed_data['texts']]):.1f}\")\n",
    "    \n",
    "    print(f\"\\n🏷️ ラベル一覧:\")\n",
    "    for i, label in enumerate(processed_data['label_encoder'].classes_):\n",
    "        count = list(processed_data['original_labels']).count(label)\n",
    "        percentage = count / len(processed_data['original_labels']) * 100\n",
    "        print(f\"   {i+1}. {label}: {count}件 ({percentage:.1f}%)\")\n",
    "        \n",
    "    print(\"\\n✅ データ前処理完了！\")\n",
    "else:\n",
    "    print(\"❌ データファイルが利用できません\")"
   ]
  },
  {
   "cell_type": "markdown",
   "metadata": {},
   "source": [
    "## 4. 探索的データ分析（EDA）\n",
    "\n",
    "データの分布や特徴を視覚的に確認します。"
   ]
  },
  {
   "cell_type": "code",
   "execution_count": null,
   "metadata": {},
   "outputs": [],
   "source": [
    "if 'processed_data' in locals():\n",
    "    print(\"📊 EDA分析を開始...\")\n",
    "    \n",
    "    # EDA分析器の初期化\n",
    "    eda_analyzer = EDAAnalyzer()\n",
    "    \n",
    "    # DataFrameを取得\n",
    "    df = processed_data['dataframe']\n",
    "    \n",
    "    # 基本統計情報\n",
    "    basic_stats = eda_analyzer.analyze_basic_statistics(df)\n",
    "    \n",
    "    print(\"\\n✅ 基本統計情報分析完了！\")\n",
    "else:\n",
    "    print(\"❌ 前処理されたデータがありません\")"
   ]
  },
  {
   "cell_type": "code",
   "execution_count": null,
   "metadata": {},
   "outputs": [],
   "source": [
    "# ラベル分布の可視化\n",
    "if 'df' in locals():\n",
    "    eda_analyzer.plot_label_distribution(df)\n",
    "    print(\"📊 ラベル分布を表示中...\")"
   ]
  },
  {
   "cell_type": "code",
   "execution_count": null,
   "metadata": {},
   "outputs": [],
   "source": [
    "# テキスト長の分析\n",
    "if 'df' in locals():\n",
    "    eda_analyzer.plot_text_length_analysis(df)\n",
    "    print(\"📏 テキスト長分析を表示中...\")"
   ]
  },
  {
   "cell_type": "code",
   "execution_count": null,
   "metadata": {},
   "outputs": [],
   "source": [
    "# クラス不均衡の分析\n",
    "if 'df' in locals():\n",
    "    imbalance_analysis = eda_analyzer.analyze_class_imbalance(df)\n",
    "    print(\"⚖️ クラス不均衡分析完了！\")"
   ]
  },
  {
   "cell_type": "markdown",
   "metadata": {},
   "source": [
    "## 5. サンプルレビューの確認\n",
    "\n",
    "各ラベルの実際のレビュー例を確認してみましょう。"
   ]
  },
  {
   "cell_type": "code",
   "execution_count": null,
   "metadata": {},
   "outputs": [],
   "source": [
    "if 'df' in locals():\n",
    "    eda_analyzer.show_sample_reviews(df, n_samples=3)\n",
    "    print(\"\\n👀 サンプルレビュー表示完了！\")"
   ]
  },
  {
   "cell_type": "markdown",
   "metadata": {},
   "source": [
    "## 6. BERT分類器の学習\n",
    "\n",
    "いよいよBERTモデルを学習します。GPUがある場合は自動的に使用されます。\n",
    "\n",
    "⚠️ **注意**: 初回実行時はBERTモデルのダウンロードに時間がかかります（数分〜10分程度）"
   ]
  },
  {
   "cell_type": "code",
   "execution_count": null,
   "metadata": {},
   "outputs": [],
   "source": [
    "if 'processed_data' in locals():\n",
    "    print(\"🤖 BERT分類器の学習を開始...\")\n",
    "    print(\"   ⏰ 初回実行時はモデルダウンロードに時間がかかります\")\n",
    "    \n",
    "    # BERT分類器の初期化\n",
    "    classifier = BERTClassifier()\n",
    "    \n",
    "    # 学習設定を表示\n",
    "    print(f\"\\n⚙️ 学習設定:\")\n",
    "    print(f\"   モデル: {MODEL_CONFIG['bert_model_name']}\")\n",
    "    print(f\"   エポック数: {MODEL_CONFIG['num_epochs']}\")\n",
    "    print(f\"   バッチサイズ: {MODEL_CONFIG['batch_size']}\")\n",
    "    print(f\"   学習率: {MODEL_CONFIG['learning_rate']}\")\n",
    "    print(f\"   使用デバイス: {'GPU' if torch.cuda.is_available() else 'CPU'}\")\n",
    "    \n",
    "    # 学習実行（エポック数を少なめに設定）\n",
    "    training_results = classifier.train(\n",
    "        processed_data=processed_data,\n",
    "        epochs=3,  # クイックスタートなので3エポック\n",
    "        use_class_weights=True\n",
    "    )\n",
    "    \n",
    "    print(\"\\n🎉 学習完了！\")\n",
    "    print(f\"   テスト精度: {training_results['test_results']['eval_accuracy']:.4f}\")\n",
    "    print(f\"   テストF1: {training_results['test_results']['eval_f1']:.4f}\")\n",
    "    \n",
    "else:\n",
    "    print(\"❌ 前処理されたデータがありません\")"
   ]
  },
  {
   "cell_type": "markdown",
   "metadata": {},
   "source": [
    "## 7. モデルの評価と予測\n",
    "\n",
    "学習したモデルで実際にテキストを分類してみましょう。"
   ]
  },
  {
   "cell_type": "code",
   "execution_count": null,
   "metadata": {},
   "outputs": [],
   "source": [
    "if 'classifier' in locals():\n",
    "    print(\"🧪 テストケースで予測を実行...\")\n",
    "    \n",
    "    # テストケース\n",
    "    test_cases = [\n",
    "        {\n",
    "            'text': '今までドライフードを色々試してきましたが、どれもちゃんと食べずに残してました。こちらは初めて与えた瞬間から飛び付いて喜んで完食してくれました。',\n",
    "            'expected': '食べる'\n",
    "        },\n",
    "        {\n",
    "            'text': 'うちの猫はこれを食べると、下痢でした',\n",
    "            'expected': '吐く・便が悪くなる'\n",
    "        },\n",
    "        {\n",
    "            'text': '配送の箱が破れていて中身がこぼれていました',\n",
    "            'expected': '配送・梱包'\n",
    "        },\n",
    "        {\n",
    "            'text': '値段が高くなってきて困ります',\n",
    "            'expected': '値上がり/高い'\n",
    "        },\n",
    "        {\n",
    "            'text': 'コスパが良くて助かります',\n",
    "            'expected': '安い'\n",
    "        }\n",
    "    ]\n",
    "    \n",
    "    print(f\"\\n📝 テスト結果:\")\n",
    "    print(\"=\" * 80)\n",
    "    \n",
    "    correct_count = 0\n",
    "    \n",
    "    for i, test_case in enumerate(test_cases, 1):\n",
    "        # 予測実行\n",
    "        prediction = classifier.predict(\n",
    "            test_case['text'], \n",
    "            return_probabilities=True\n",
    "        )\n",
    "        \n",
    "        # 結果の確認\n",
    "        is_correct = prediction['predicted_label'] == test_case['expected']\n",
    "        if is_correct:\n",
    "            correct_count += 1\n",
    "        \n",
    "        # 結果表示\n",
    "        print(f\"\\nテスト {i}:\")\n",
    "        print(f\"   テキスト: {test_case['text'][:50]}...\")\n",
    "        print(f\"   期待値: {test_case['expected']}\")\n",
    "        print(f\"   予測: {prediction['predicted_label']} (確信度: {prediction['confidence']:.3f})\")\n",
    "        print(f\"   結果: {'✅ 正解' if is_correct else '❌ 不正解'}\")\n",
    "    \n",
    "    # 全体の正解率\n",
    "    accuracy = correct_count / len(test_cases)\n",
    "    print(\"\\n\" + \"=\" * 80)\n",
    "    print(f\"🎯 テストケース正解率: {accuracy:.1%} ({correct_count}/{len(test_cases)})\")\n",
    "    \n",
    "else:\n",
    "    print(\"❌ 学習済みモデルがありません\")"
   ]
  },
  {
   "cell_type": "markdown",
   "metadata": {},
   "source": [
    "## 8. 詳細な予測結果の確認\n",
    "\n",
    "特定のテキストについて、全ラベルの確率を確認してみましょう。"
   ]
  },
  {
   "cell_type": "code",
   "execution_count": null,
   "metadata": {},
   "outputs": [],
   "source": [
    "if 'classifier' in locals():\n",
    "    # 複雑なケースをテスト\n",
    "    complex_text = \"\"\"前は他のフードを食べていましたが残すことが多くて困っていました。\n",
    "    でもこちらに変えてからは完食してくれるようになり、うんちの調子も良くなりました。\n",
    "    ただ、お値段が少し高いのが気になります。\"\"\"\n",
    "    \n",
    "    print(\"🔍 複雑なテキストの詳細分析:\")\n",
    "    print(f\"テキスト: {complex_text}\")\n",
    "    print(\"\\n\" + \"=\"*60)\n",
    "    \n",
    "    # 予測実行\n",
    "    prediction = classifier.predict(complex_text, return_probabilities=True)\n",
    "    \n",
    "    # 最も確率の高いラベル\n",
    "    print(f\"\\n🏆 最終予測: {prediction['predicted_label']} (確信度: {prediction['confidence']:.3f})\")\n",
    "    \n",
    "    # 全ラベルの確率を表示\n",
    "    print(f\"\\n📊 全ラベルの確率:\")\n",
    "    sorted_probs = sorted(\n",
    "        prediction['all_probabilities'].items(), \n",
    "        key=lambda x: x[1], \n",
    "        reverse=True\n",
    "    )\n",
    "    \n",
    "    for rank, (label, prob) in enumerate(sorted_probs, 1):\n",
    "        bar = \"█\" * int(prob * 20)  # 確率を棒グラフで表現\n",
    "        print(f\"   {rank:2d}. {label:20s} {prob:.3f} {bar}\")\n",
    "        \n",
    "else:\n",
    "    print(\"❌ 学習済みモデルがありません\")"
   ]
  },
  {
   "cell_type": "markdown",
   "metadata": {},
   "source": [
    "## 9. インタラクティブな予測\n",
    "\n",
    "自由にテキストを入力して予測してみましょう！"
   ]
  },
  {
   "cell_type": "code",
   "execution_count": null,
   "metadata": {},
   "outputs": [],
   "source": [
    "if 'classifier' in locals():\n",
    "    print(\"🎮 インタラクティブ予測モード\")\n",
    "    print(\"以下のセルを実行して、自由にテキストを入力してください！\")\n",
    "    print(\"（空文字を入力すると終了します）\")\n",
    "    \n",
    "    def interactive_prediction():\n",
    "        while True:\n",
    "            user_text = input(\"\\n予測したいレビューテキストを入力してください: \")\n",
    "            \n",
    "            if not user_text.strip():\n",
    "                print(\"予測を終了します。\")\n",
    "                break\n",
    "            \n",
    "            try:\n",
    "                prediction = classifier.predict(user_text, return_probabilities=True)\n",
    "                \n",
    "                print(f\"\\n📝 入力テキスト: {user_text}\")\n",
    "                print(f\"🎯 予測ラベル: {prediction['predicted_label']}\")\n",
    "                print(f\"📊 確信度: {prediction['confidence']:.3f}\")\n",
    "                \n",
    "                # 上位3つの候補を表示\n",
    "                sorted_probs = sorted(\n",
    "                    prediction['all_probabilities'].items(), \n",
    "                    key=lambda x: x[1], \n",
    "                    reverse=True\n",
    "                )[:3]\n",
    "                \n",
    "                print(\"\\n🏆 上位候補:\")\n",
    "                for i, (label, prob) in enumerate(sorted_probs, 1):\n",
    "                    print(f\"   {i}. {label}: {prob:.3f}\")\n",
    "                    \n",
    "            except Exception as e:\n",
    "                print(f\"❌ エラーが発生しました: {e}\")\n",
    "    \n",
    "    # インタラクティブモードを開始\n",
    "    # 注意: Jupyter環境では以下の行をコメントアウトしてください\n",
    "    # interactive_prediction()\n",
    "    \n",
    "    print(\"\\n💡 ヒント: 以下のようなテキストを試してみてください:\")\n",
    "    print(\"   - 'よく食べてくれます'\")\n",
    "    print(\"   - '全然食べません'\")\n",
    "    print(\"   - '届いた箱がへこんでいました'\")\n",
    "    print(\"   - 'もう少し安いといいのですが'\")\n",
    "\n",
    "else:\n",
    "    print(\"❌ 学習済みモデルがありません\")"
   ]
  },
  {
   "cell_type": "markdown",
   "metadata": {},
   "source": [
    "## 10. まとめと次のステップ\n",
    "\n",
    "### 🎉 完了したこと\n",
    "\n",
    "1. ✅ データの読み込みと前処理\n",
    "2. ✅ 探索的データ分析（EDA）\n",
    "3. ✅ BERTモデルの学習\n",
    "4. ✅ モデルの評価と予測\n",
    "5. ✅ インタラクティブな予測テスト\n",
    "\n",
    "### 📈 パフォーマンス向上のために\n",
    "\n",
    "- **より多くのエポック**: `epochs=5` や `epochs=10` で学習\n",
    "- **GPU使用**: より高速な学習\n",
    "- **ハイパーパラメータ調整**: 学習率やバッチサイズの最適化\n",
    "- **アンサンブル学習**: 複数モデルの組み合わせ\n",
    "\n",
    "### 🚀 次のステップ\n",
    "\n",
    "1. **本格的な学習**: `train.py`を使用した完全パイプライン\n",
    "2. **モデルの保存と読み込み**: 学習済みモデルの再利用\n",
    "3. **API化**: Webアプリケーションへの統合\n",
    "4. **継続的改善**: 新しいデータでの再学習\n",
    "\n",
    "### 💡 参考コマンド\n",
    "\n",
    "```bash\n",
    "# 完全パイプラインの実行\n",
    "python train.py --excel_file \"../ラベル付け参考用.xlsx\" --epochs 10 --gpu\n",
    "\n",
    "# 保存されたモデルの読み込み\n",
    "classifier = BERTClassifier()\n",
    "classifier.load_saved_model(\"./models/\")\n",
    "```\n",
    "\n",
    "---\n",
    "\n",
    "**🎊 お疲れ様でした！ペットフードレビュー分類器の基本的な使い方をマスターしました！**"
   ]
  }
 ],
 "metadata": {
  "kernelspec": {
   "display_name": "Python 3",
   "language": "python",
   "name": "python3"
  },
  "language_info": {
   "codemirror_mode": {
    "name": "ipython",
    "version": 3
   },
   "file_extension": ".py",
   "mimetype": "text/x-python",
   "name": "python",
   "nbconvert_exporter": "python",
   "pygments_lexer": "ipython3",
   "version": "3.8.0"
  }
 },
 "nbformat": 4,
 "nbformat_minor": 4
}
